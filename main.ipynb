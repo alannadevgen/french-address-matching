{
 "cells": [
  {
   "cell_type": "code",
   "execution_count": null,
   "metadata": {},
   "outputs": [],
   "source": [
    "# imports\n",
    "# from standardization.tokenization import tokenize\n",
    "# from standardization.tagging import tag_tokens, df_tags, remove_perso_info\n",
    "from utils.csv_io import IOcsv\n",
    "from utils.sample import Sample\n",
    "from HMM.transition_matrix import TransitionMatrix\n",
    "# from HMM.transition import creckages : on télécharge les données, on installe les librairies qui ne sont pas presentes par défaut et on récupère les fichiers nécessairesate_train_test_sample, compute_transition_matrix\n",
    "import pandas as pd\n"
   ]
  },
  {
   "cell_type": "code",
   "execution_count": null,
   "metadata": {},
   "outputs": [],
   "source": [
    "create_sample = False\n",
    "BUCKET = 'projet-pfe-adress-matching'\n",
    "FILE_KEY_S3 = 'DonneesCompletes.csv'\n",
    "\n",
    "if create_sample:\n",
    "    print(\"Creating new sample.\")\n",
    "    # import of the data\n",
    "    full_df = import_csv(BUCKET, FILE_KEY_S3)\n",
    "    # initialisate a sample\n",
    "    sample = Sample(dataset=full_df, size=100)\n",
    "    # create the sample\n",
    "    sample.create_sample()\n",
    "    #  put the sample in the BUCKET (avoid to push it by mistake)\n",
    "    sample.save_sample_file(BUCKET, 'sample.csv')\n",
    "else:\n",
    "    print(\"Importing previously created sample.\")\n",
    "    # import the previous sample\n",
    "    df_sample = import_csv(BUCKET, 'sample.csv', sep=',')"
   ]
  },
  {
   "cell_type": "code",
   "execution_count": null,
   "metadata": {},
   "outputs": [],
   "source": [
    "df_sample"
   ]
  },
  {
   "cell_type": "code",
   "execution_count": null,
   "metadata": {},
   "outputs": [],
   "source": [
    "# import others datasets\n",
    "df_sample = import_csv(BUCKET, 'sample.csv', sep=',')\n",
    "replacement = pd.read_csv('remplacement.csv', sep=\",\")\n",
    "lib_voie = pd.read_csv('libvoie.csv', sep=\",\")\n",
    "\n",
    "df = df_sample.iloc[:, :8]\n",
    "\n",
    "# extract addresses column\n",
    "addresses = df.iloc[:, 0]\n",
    "cp = df.iloc[:, 1]\n",
    "communes = df.iloc[:, 2]"
   ]
  },
  {
   "cell_type": "code",
   "execution_count": null,
   "metadata": {},
   "outputs": [],
   "source": [
    "# create tokens for the 100 first addresses\n",
    "tokens_addresses = tokenize(addresses, replacement_file=replacement)\n",
    "tokens_communes = tokenize(communes, replacement_file=replacement)\n",
    "# print(tokens_communes[0:10])\n",
    "print(len(tokens_communes),len(tokens_addresses))\n",
    "\n",
    "# tag the tokens with their label\n",
    "tags = tag_tokens(\n",
    "    tokens_addresses,\n",
    "    cp,\n",
    "    tokens_communes,\n",
    "    libvoie_file=lib_voie\n",
    "    )\n",
    "\n",
    "# remove personal information\n",
    "tags_without_perso = remove_perso_info(tags)\n",
    "print(tags_without_perso[0:10])"
   ]
  },
  {
   "cell_type": "code",
   "execution_count": null,
   "metadata": {},
   "outputs": [],
   "source": [
    "train_sample = create_train_test_sample(tags_without_perso)[0]\n",
    "\n",
    "display_statistics(train_sample)"
   ]
  },
  {
   "cell_type": "code",
   "execution_count": null,
   "metadata": {},
   "outputs": [],
   "source": [
    "transition_matrix = compute_transition_matrix(tags_without_perso)\n",
    "transition_matrix"
   ]
  },
  {
   "cell_type": "code",
   "execution_count": null,
   "metadata": {},
   "outputs": [],
   "source": [
    "import pandas as pd\n",
    "data = {\n",
    "    'NUMVOIE': [0.02, 0.21, 0.06, 0.07, 0, 0, 0.05, 0, 0],\n",
    "    'INCONNU': [0.01, 0.25, 0.5, 0, 0, 0, 0.01, 0, 1],\n",
    "    'SUFFIXE': [0.03, 0, 0, 0, 0, 0, 0, 0, 0],\n",
    "    'COMPADR': [0, 0.02, 0, 0.62, 0, 0.01, 0, 0, 0],\n",
    "    'COMMUNE': [0, 0, 0, 0, 0.72, 0, 0, 0.01, 0],\n",
    "    'LIBVOIE': [0.91, 0.31, 0.89, 0.01, 0, 0.71, 0.02, 0, 0],\n",
    "    'LIEU': [0.03, 0.01, 0, 0, 0, 0, 0.54, 0, 0],\n",
    "    'PARCELLE': [0, 0.03, 0, 0.02, 0, 0.04, 0.15, 0.75, 0],\n",
    "    'CP': [0, 0, 0, 0, 0.01, 0, 0, 0, 0]\n",
    "}\n",
    "matrix = pd.DataFrame.from_dict(data)\n",
    "matrix.index = ['NUMVOIE', 'INCONNU', 'SUFFIXE', 'COMPADR', 'COMMUNE', 'LIBVOIE', 'LIEU', 'PARCELLE', 'CP']\n",
    "matrix = matrix.reindex(index=['NUMVOIE', 'SUFFIXE', 'LIBVOIE', 'LIEU', 'CP', 'COMMUNE', 'COMPADR', 'PARCELLE', 'INCONNU'], columns=['NUMVOIE', 'SUFFIXE', 'LIBVOIE', 'LIEU', 'CP', 'COMMUNE', 'COMPADR', 'PARCELLE', 'INCONNU'])\n",
    "matrix"
   ]
  },
  {
   "cell_type": "code",
   "execution_count": null,
   "metadata": {},
   "outputs": [],
   "source": [
    "import seaborn as sns\n",
    "import matplotlib.pyplot as plt\n",
    "plot = sns.heatmap(matrix, cmap=\"Blues\", annot=True)\n",
    "# add title\n",
    "plt.title('Matrice de transition', weight=\"bold\", size=16)\n",
    "# ajust margins\n",
    "plt.tight_layout()\n",
    "\n",
    "plot.set_xticklabels(plot.get_xticklabels(), rotation=60)\n",
    "for t in plot.texts:\n",
    "    if float(t.get_text())>=0.4:\n",
    "        t.set_text(t.get_text()) #if the value is greater than 0.4 then I set the text \n",
    "    else:\n",
    "        t.set_text(\"\") # if not it sets an empty text\n",
    "\n",
    "# save file\n",
    "plt.savefig(\"transition_matrix_old.png\")"
   ]
  }
 ],
 "metadata": {
  "kernelspec": {
   "display_name": "base",
   "language": "python",
   "name": "python3"
  },
  "language_info": {
   "codemirror_mode": {
    "name": "ipython",
    "version": 3
   },
   "file_extension": ".py",
   "mimetype": "text/x-python",
   "name": "python",
   "nbconvert_exporter": "python",
   "pygments_lexer": "ipython3",
   "version": "3.10.8"
  },
  "orig_nbformat": 4,
  "vscode": {
   "interpreter": {
    "hash": "3fa046f995eb80ac40c0869a1f9df46519f4ada8b8c395ef25dd1aa1a1a2fc63"
   }
  }
 },
 "nbformat": 4,
 "nbformat_minor": 2
}
